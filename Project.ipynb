{
 "cells": [
  {
   "cell_type": "code",
   "execution_count": 5,
   "id": "36357128",
   "metadata": {},
   "outputs": [],
   "source": [
    "import torch\n",
    "from transformers import AutoModelForCausalLM, AutoTokenizer, TextStreamer, pipeline\n",
    "from huggingface_hub import hf_hub_download\n",
    "import pandas as pd"
   ]
  },
  {
   "cell_type": "markdown",
   "id": "8c96c82b",
   "metadata": {},
   "source": [
    "**Datasets:**\n",
    "- https://huggingface.co/datasets/yahma/alpaca-cleaned\n",
    "- https://huggingface.co/datasets/ccdv/arxiv-summarization\n",
    "- https://huggingface.co/datasets/HuggingFaceH4/no_robots\n",
    "- https://huggingface.co/datasets/Open-Orca/SlimOrca?row=0\n",
    "\n",
    "**You can also look**: https://huggingface.co/datasets?task_categories=task_categories:text-generation&sort=trending "
   ]
  },
  {
   "cell_type": "markdown",
   "id": "a214553a",
   "metadata": {},
   "source": [
    "**Codes:**\n",
    "- https://colab.research.google.com/drive/1kEV6i96AQ94xTCvSd11TxkEaksTb5o3U?usp=sharing#scrollTo=Dg9DRDL0jv7e\n",
    "- https://huggingface.co/Intel/neural-chat-7b-v3-1\n"
   ]
  },
  {
   "cell_type": "markdown",
   "id": "de76215b",
   "metadata": {},
   "source": [
    "**Models:**\n",
    "- Gemma 7b\n",
    "- Mistral 7b\n",
    "- Llama-2 7b\n",
    "- TinyLlama\n",
    "- DPO - Zephyr"
   ]
  },
  {
   "cell_type": "code",
   "execution_count": null,
   "id": "318c35ef",
   "metadata": {},
   "outputs": [],
   "source": []
  },
  {
   "cell_type": "code",
   "execution_count": null,
   "id": "c2f154cd",
   "metadata": {},
   "outputs": [],
   "source": []
  }
 ],
 "metadata": {
  "kernelspec": {
   "display_name": "Python 3 (ipykernel)",
   "language": "python",
   "name": "python3"
  },
  "language_info": {
   "codemirror_mode": {
    "name": "ipython",
    "version": 3
   },
   "file_extension": ".py",
   "mimetype": "text/x-python",
   "name": "python",
   "nbconvert_exporter": "python",
   "pygments_lexer": "ipython3",
   "version": "3.10.10"
  }
 },
 "nbformat": 4,
 "nbformat_minor": 5
}
